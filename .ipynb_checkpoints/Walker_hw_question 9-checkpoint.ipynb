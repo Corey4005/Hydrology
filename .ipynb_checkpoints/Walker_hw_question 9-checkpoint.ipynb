{
 "cells": [
  {
   "cell_type": "code",
   "execution_count": 1,
   "id": "d9486d86",
   "metadata": {},
   "outputs": [],
   "source": [
    "import pandas as pd\n",
    "import matplotlib.pyplot as plt"
   ]
  },
  {
   "cell_type": "code",
   "execution_count": 2,
   "id": "bd5ed79b",
   "metadata": {},
   "outputs": [],
   "source": [
    "data = pd.read_excel(r'C:\\Users\\cwalker\\Desktop\\Classwork\\Hydrology\\data\\Huntsville_AP data.xlsx')"
   ]
  },
  {
   "cell_type": "code",
   "execution_count": 3,
   "id": "27db48df",
   "metadata": {},
   "outputs": [
    {
     "data": {
      "text/html": [
       "<div>\n",
       "<style scoped>\n",
       "    .dataframe tbody tr th:only-of-type {\n",
       "        vertical-align: middle;\n",
       "    }\n",
       "\n",
       "    .dataframe tbody tr th {\n",
       "        vertical-align: top;\n",
       "    }\n",
       "\n",
       "    .dataframe thead th {\n",
       "        text-align: right;\n",
       "    }\n",
       "</style>\n",
       "<table border=\"1\" class=\"dataframe\">\n",
       "  <thead>\n",
       "    <tr style=\"text-align: right;\">\n",
       "      <th></th>\n",
       "      <th>Data</th>\n",
       "    </tr>\n",
       "  </thead>\n",
       "  <tbody>\n",
       "    <tr>\n",
       "      <th>0</th>\n",
       "      <td>10/13/1959    1.52</td>\n",
       "    </tr>\n",
       "    <tr>\n",
       "      <th>1</th>\n",
       "      <td>07/17/1960    1.10</td>\n",
       "    </tr>\n",
       "    <tr>\n",
       "      <th>2</th>\n",
       "      <td>03/07/1961    1.28</td>\n",
       "    </tr>\n",
       "    <tr>\n",
       "      <th>3</th>\n",
       "      <td>07/05/1962    0.98</td>\n",
       "    </tr>\n",
       "    <tr>\n",
       "      <th>4</th>\n",
       "      <td>07/23/1963    1.80</td>\n",
       "    </tr>\n",
       "    <tr>\n",
       "      <th>5</th>\n",
       "      <td>06/17/1964    1.27</td>\n",
       "    </tr>\n",
       "    <tr>\n",
       "      <th>6</th>\n",
       "      <td>05/18/1965    2.43</td>\n",
       "    </tr>\n",
       "    <tr>\n",
       "      <th>7</th>\n",
       "      <td>08/17/1966    1.36</td>\n",
       "    </tr>\n",
       "    <tr>\n",
       "      <th>8</th>\n",
       "      <td>07/11/1967    2.71</td>\n",
       "    </tr>\n",
       "    <tr>\n",
       "      <th>9</th>\n",
       "      <td>09/04/1968    1.32</td>\n",
       "    </tr>\n",
       "    <tr>\n",
       "      <th>10</th>\n",
       "      <td>06/14/1969    3.08</td>\n",
       "    </tr>\n",
       "    <tr>\n",
       "      <th>11</th>\n",
       "      <td>08/09/1970    1.25</td>\n",
       "    </tr>\n",
       "    <tr>\n",
       "      <th>12</th>\n",
       "      <td>02/22/1971    1.21</td>\n",
       "    </tr>\n",
       "    <tr>\n",
       "      <th>13</th>\n",
       "      <td>08/06/1972    1.12</td>\n",
       "    </tr>\n",
       "    <tr>\n",
       "      <th>14</th>\n",
       "      <td>11/27/1973    1.27</td>\n",
       "    </tr>\n",
       "    <tr>\n",
       "      <th>15</th>\n",
       "      <td>07/26/1974    2.19</td>\n",
       "    </tr>\n",
       "    <tr>\n",
       "      <th>16</th>\n",
       "      <td>07/07/1975    2.33</td>\n",
       "    </tr>\n",
       "    <tr>\n",
       "      <th>17</th>\n",
       "      <td>03/20/1976    1.15</td>\n",
       "    </tr>\n",
       "    <tr>\n",
       "      <th>18</th>\n",
       "      <td>05/21/1977    2.12</td>\n",
       "    </tr>\n",
       "    <tr>\n",
       "      <th>19</th>\n",
       "      <td>05/26/1978    1.27</td>\n",
       "    </tr>\n",
       "    <tr>\n",
       "      <th>20</th>\n",
       "      <td>07/21/1979    1.05</td>\n",
       "    </tr>\n",
       "    <tr>\n",
       "      <th>21</th>\n",
       "      <td>08/29/1980    2.01</td>\n",
       "    </tr>\n",
       "    <tr>\n",
       "      <th>22</th>\n",
       "      <td>07/29/1981    1.00</td>\n",
       "    </tr>\n",
       "    <tr>\n",
       "      <th>23</th>\n",
       "      <td>08/16/1982    1.02</td>\n",
       "    </tr>\n",
       "    <tr>\n",
       "      <th>24</th>\n",
       "      <td>05/19/1983    1.63</td>\n",
       "    </tr>\n",
       "    <tr>\n",
       "      <th>25</th>\n",
       "      <td>06/14/1984    1.25</td>\n",
       "    </tr>\n",
       "    <tr>\n",
       "      <th>26</th>\n",
       "      <td>08/24/1985    1.48</td>\n",
       "    </tr>\n",
       "    <tr>\n",
       "      <th>27</th>\n",
       "      <td>08/10/1986    2.05</td>\n",
       "    </tr>\n",
       "    <tr>\n",
       "      <th>28</th>\n",
       "      <td>11/16/1987    1.26</td>\n",
       "    </tr>\n",
       "    <tr>\n",
       "      <th>29</th>\n",
       "      <td>01/19/1988    1.62</td>\n",
       "    </tr>\n",
       "    <tr>\n",
       "      <th>30</th>\n",
       "      <td>06/22/1989    1.88</td>\n",
       "    </tr>\n",
       "    <tr>\n",
       "      <th>31</th>\n",
       "      <td>06/03/1990    1.18</td>\n",
       "    </tr>\n",
       "    <tr>\n",
       "      <th>32</th>\n",
       "      <td>05/10/1991    1.27</td>\n",
       "    </tr>\n",
       "    <tr>\n",
       "      <th>33</th>\n",
       "      <td>06/08/1992    1.35</td>\n",
       "    </tr>\n",
       "    <tr>\n",
       "      <th>34</th>\n",
       "      <td>08/13/1993    1.66</td>\n",
       "    </tr>\n",
       "    <tr>\n",
       "      <th>35</th>\n",
       "      <td>06/22/1994    1.53</td>\n",
       "    </tr>\n",
       "    <tr>\n",
       "      <th>36</th>\n",
       "      <td>02/15/1995    0.97</td>\n",
       "    </tr>\n",
       "    <tr>\n",
       "      <th>37</th>\n",
       "      <td>09/10/1996    1.27</td>\n",
       "    </tr>\n",
       "    <tr>\n",
       "      <th>38</th>\n",
       "      <td>10/25/1997    1.23</td>\n",
       "    </tr>\n",
       "    <tr>\n",
       "      <th>39</th>\n",
       "      <td>07/24/1998    1.13</td>\n",
       "    </tr>\n",
       "    <tr>\n",
       "      <th>40</th>\n",
       "      <td>05/05/1999    1.57</td>\n",
       "    </tr>\n",
       "    <tr>\n",
       "      <th>41</th>\n",
       "      <td>11/08/2000    1.55</td>\n",
       "    </tr>\n",
       "    <tr>\n",
       "      <th>42</th>\n",
       "      <td>08/10/2001    1.68</td>\n",
       "    </tr>\n",
       "    <tr>\n",
       "      <th>43</th>\n",
       "      <td>07/12/2002    0.99</td>\n",
       "    </tr>\n",
       "    <tr>\n",
       "      <th>44</th>\n",
       "      <td>05/06/2003    1.05</td>\n",
       "    </tr>\n",
       "    <tr>\n",
       "      <th>45</th>\n",
       "      <td>03/05/2004    1.15</td>\n",
       "    </tr>\n",
       "    <tr>\n",
       "      <th>46</th>\n",
       "      <td>07/01/2005    1.15</td>\n",
       "    </tr>\n",
       "    <tr>\n",
       "      <th>47</th>\n",
       "      <td>08/10/2006    1.11</td>\n",
       "    </tr>\n",
       "    <tr>\n",
       "      <th>48</th>\n",
       "      <td>08/25/2007    1.26</td>\n",
       "    </tr>\n",
       "    <tr>\n",
       "      <th>49</th>\n",
       "      <td>10/08/2008    1.29</td>\n",
       "    </tr>\n",
       "    <tr>\n",
       "      <th>50</th>\n",
       "      <td>07/12/2009    2.01</td>\n",
       "    </tr>\n",
       "    <tr>\n",
       "      <th>51</th>\n",
       "      <td>10/25/2010    1.58</td>\n",
       "    </tr>\n",
       "  </tbody>\n",
       "</table>\n",
       "</div>"
      ],
      "text/plain": [
       "                   Data\n",
       "0   10/13/1959    1.52 \n",
       "1   07/17/1960    1.10 \n",
       "2   03/07/1961    1.28 \n",
       "3   07/05/1962    0.98 \n",
       "4   07/23/1963    1.80 \n",
       "5   06/17/1964    1.27 \n",
       "6   05/18/1965    2.43 \n",
       "7   08/17/1966    1.36 \n",
       "8   07/11/1967    2.71 \n",
       "9   09/04/1968    1.32 \n",
       "10  06/14/1969    3.08 \n",
       "11  08/09/1970    1.25 \n",
       "12  02/22/1971    1.21 \n",
       "13  08/06/1972    1.12 \n",
       "14  11/27/1973    1.27 \n",
       "15  07/26/1974    2.19 \n",
       "16  07/07/1975    2.33 \n",
       "17  03/20/1976    1.15 \n",
       "18  05/21/1977    2.12 \n",
       "19  05/26/1978    1.27 \n",
       "20  07/21/1979    1.05 \n",
       "21  08/29/1980    2.01 \n",
       "22  07/29/1981    1.00 \n",
       "23  08/16/1982    1.02 \n",
       "24  05/19/1983    1.63 \n",
       "25  06/14/1984    1.25 \n",
       "26  08/24/1985    1.48 \n",
       "27  08/10/1986    2.05 \n",
       "28  11/16/1987    1.26 \n",
       "29  01/19/1988    1.62 \n",
       "30  06/22/1989    1.88 \n",
       "31  06/03/1990    1.18 \n",
       "32  05/10/1991    1.27 \n",
       "33  06/08/1992    1.35 \n",
       "34  08/13/1993    1.66 \n",
       "35  06/22/1994    1.53 \n",
       "36  02/15/1995    0.97 \n",
       "37  09/10/1996    1.27 \n",
       "38  10/25/1997    1.23 \n",
       "39  07/24/1998    1.13 \n",
       "40  05/05/1999    1.57 \n",
       "41  11/08/2000    1.55 \n",
       "42  08/10/2001    1.68 \n",
       "43  07/12/2002    0.99 \n",
       "44  05/06/2003    1.05 \n",
       "45  03/05/2004    1.15 \n",
       "46  07/01/2005    1.15 \n",
       "47  08/10/2006    1.11 \n",
       "48  08/25/2007    1.26 \n",
       "49  10/08/2008    1.29 \n",
       "50  07/12/2009    2.01 \n",
       "51  10/25/2010    1.58 "
      ]
     },
     "execution_count": 3,
     "metadata": {},
     "output_type": "execute_result"
    }
   ],
   "source": [
    "data"
   ]
  },
  {
   "cell_type": "code",
   "execution_count": 4,
   "id": "a5869ec6",
   "metadata": {},
   "outputs": [],
   "source": [
    "split_function = lambda x: x.split(' ')"
   ]
  },
  {
   "cell_type": "code",
   "execution_count": 5,
   "id": "d310bbcd",
   "metadata": {},
   "outputs": [],
   "source": [
    "data['Data'].apply(split_function)\n",
    "date_list = [i[0:10] for i in data['Data']]"
   ]
  },
  {
   "cell_type": "code",
   "execution_count": 6,
   "id": "79be5fbd",
   "metadata": {},
   "outputs": [
    {
     "data": {
      "text/plain": [
       "['10/13/1959',\n",
       " '07/17/1960',\n",
       " '03/07/1961',\n",
       " '07/05/1962',\n",
       " '07/23/1963',\n",
       " '06/17/1964',\n",
       " '05/18/1965',\n",
       " '08/17/1966',\n",
       " '07/11/1967',\n",
       " '09/04/1968',\n",
       " '06/14/1969',\n",
       " '08/09/1970',\n",
       " '02/22/1971',\n",
       " '08/06/1972',\n",
       " '11/27/1973',\n",
       " '07/26/1974',\n",
       " '07/07/1975',\n",
       " '03/20/1976',\n",
       " '05/21/1977',\n",
       " '05/26/1978',\n",
       " '07/21/1979',\n",
       " '08/29/1980',\n",
       " '07/29/1981',\n",
       " '08/16/1982',\n",
       " '05/19/1983',\n",
       " '06/14/1984',\n",
       " '08/24/1985',\n",
       " '08/10/1986',\n",
       " '11/16/1987',\n",
       " '01/19/1988',\n",
       " '06/22/1989',\n",
       " '06/03/1990',\n",
       " '05/10/1991',\n",
       " '06/08/1992',\n",
       " '08/13/1993',\n",
       " '06/22/1994',\n",
       " '02/15/1995',\n",
       " '09/10/1996',\n",
       " '10/25/1997',\n",
       " '07/24/1998',\n",
       " '05/05/1999',\n",
       " '11/08/2000',\n",
       " '08/10/2001',\n",
       " '07/12/2002',\n",
       " '05/06/2003',\n",
       " '03/05/2004',\n",
       " '07/01/2005',\n",
       " '08/10/2006',\n",
       " '08/25/2007',\n",
       " '10/08/2008',\n",
       " '07/12/2009',\n",
       " '10/25/2010']"
      ]
     },
     "execution_count": 6,
     "metadata": {},
     "output_type": "execute_result"
    }
   ],
   "source": [
    "date_list"
   ]
  },
  {
   "cell_type": "code",
   "execution_count": 7,
   "id": "a47e022c",
   "metadata": {},
   "outputs": [],
   "source": [
    "values = [i[14:18] for i in data['Data']]"
   ]
  },
  {
   "cell_type": "code",
   "execution_count": 8,
   "id": "58ce0283",
   "metadata": {},
   "outputs": [
    {
     "data": {
      "text/plain": [
       "['1.52',\n",
       " '1.10',\n",
       " '1.28',\n",
       " '0.98',\n",
       " '1.80',\n",
       " '1.27',\n",
       " '2.43',\n",
       " '1.36',\n",
       " '2.71',\n",
       " '1.32',\n",
       " '3.08',\n",
       " '1.25',\n",
       " '1.21',\n",
       " '1.12',\n",
       " '1.27',\n",
       " '2.19',\n",
       " '2.33',\n",
       " '1.15',\n",
       " '2.12',\n",
       " '1.27',\n",
       " '1.05',\n",
       " '2.01',\n",
       " '1.00',\n",
       " '1.02',\n",
       " '1.63',\n",
       " '1.25',\n",
       " '1.48',\n",
       " '2.05',\n",
       " '1.26',\n",
       " '1.62',\n",
       " '1.88',\n",
       " '1.18',\n",
       " '1.27',\n",
       " '1.35',\n",
       " '1.66',\n",
       " '1.53',\n",
       " '0.97',\n",
       " '1.27',\n",
       " '1.23',\n",
       " '1.13',\n",
       " '1.57',\n",
       " '1.55',\n",
       " '1.68',\n",
       " '0.99',\n",
       " '1.05',\n",
       " '1.15',\n",
       " '1.15',\n",
       " '1.11',\n",
       " '1.26',\n",
       " '1.29',\n",
       " '2.01',\n",
       " '1.58']"
      ]
     },
     "execution_count": 8,
     "metadata": {},
     "output_type": "execute_result"
    }
   ],
   "source": [
    "values"
   ]
  },
  {
   "cell_type": "code",
   "execution_count": 9,
   "id": "c609346e",
   "metadata": {},
   "outputs": [],
   "source": [
    "d = {'Date':date_list, 'Values':values}"
   ]
  },
  {
   "cell_type": "code",
   "execution_count": 10,
   "id": "5ca7515d",
   "metadata": {},
   "outputs": [],
   "source": [
    "new_df = pd.DataFrame(d)"
   ]
  },
  {
   "cell_type": "code",
   "execution_count": 11,
   "id": "ccfc9479",
   "metadata": {},
   "outputs": [],
   "source": [
    "new_df['Date'] = pd.to_datetime(new_df['Date'], dayfirst=True)"
   ]
  },
  {
   "cell_type": "code",
   "execution_count": 12,
   "id": "fd48a12e",
   "metadata": {},
   "outputs": [
    {
     "data": {
      "text/plain": [
       "Date      datetime64[ns]\n",
       "Values            object\n",
       "dtype: object"
      ]
     },
     "execution_count": 12,
     "metadata": {},
     "output_type": "execute_result"
    }
   ],
   "source": [
    "new_df.dtypes"
   ]
  },
  {
   "cell_type": "code",
   "execution_count": 13,
   "id": "363017cd",
   "metadata": {},
   "outputs": [],
   "source": [
    "new_df['Values'] = new_df['Values'].astype(float)"
   ]
  },
  {
   "cell_type": "code",
   "execution_count": 14,
   "id": "48e4bab4",
   "metadata": {},
   "outputs": [
    {
     "data": {
      "text/plain": [
       "Date      datetime64[ns]\n",
       "Values           float64\n",
       "dtype: object"
      ]
     },
     "execution_count": 14,
     "metadata": {},
     "output_type": "execute_result"
    }
   ],
   "source": [
    "new_df.dtypes"
   ]
  },
  {
   "cell_type": "code",
   "execution_count": 31,
   "id": "c88525b7",
   "metadata": {},
   "outputs": [
    {
     "data": {
      "text/plain": [
       "<matplotlib.legend.Legend at 0x1c0883f1c10>"
      ]
     },
     "execution_count": 31,
     "metadata": {},
     "output_type": "execute_result"
    },
    {
     "data": {
      "image/png": "[encoded data removed]",
      "text/plain": [
       "<Figure size 432x288 with 1 Axes>"
      ]
     },
     "metadata": {
      "needs_background": "light"
     },
     "output_type": "display_data"
    }
   ],
   "source": [
    "plot = new_df['Values'].plot()\n",
    "plot.set_ylabel('1 Hour Measurement - in')\n",
    "plot.set_title('1 Hour Rain Guage Events by Date - Huntsville AP')\n",
    "plot.legend()"
   ]
  },
  {
   "cell_type": "code",
   "execution_count": 50,
   "id": "72e61db0",
   "metadata": {},
   "outputs": [
    {
     "name": "stdout",
     "output_type": "stream",
     "text": [
      "The one hour maximum for the period between 1960 and 2010 at the Huntsville Airport is 3.08 in.\n"
     ]
    }
   ],
   "source": [
    "one_hour_max = new_df['Values'].max()\n",
    "print(f\"The one hour maximum for the period between 1960 and 2010 at the Huntsville Airport is {one_hour_max} in.\")"
   ]
  },
  {
   "cell_type": "code",
   "execution_count": 47,
   "id": "2704c1fa",
   "metadata": {},
   "outputs": [
    {
     "data": {
      "text/plain": [
       "Timestamp('2010-10-25 00:00:00')"
      ]
     },
     "execution_count": 47,
     "metadata": {},
     "output_type": "execute_result"
    }
   ],
   "source": []
  },
  {
   "cell_type": "code",
   "execution_count": null,
   "id": "435493ba",
   "metadata": {},
   "outputs": [],
   "source": []
  }
 ],
 "metadata": {
  "kernelspec": {
   "display_name": "Python 3 (ipykernel)",
   "language": "python",
   "name": "python3"
  },
  "language_info": {
   "codemirror_mode": {
    "name": "ipython",
    "version": 3
   },
   "file_extension": ".py",
   "mimetype": "text/x-python",
   "name": "python",
   "nbconvert_exporter": "python",
   "pygments_lexer": "ipython3",
   "version": "3.9.6"
  }
 },
 "nbformat": 4,
 "nbformat_minor": 5
}
