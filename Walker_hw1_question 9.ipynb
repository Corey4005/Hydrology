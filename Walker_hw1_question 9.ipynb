{
 "cells": [
  {
   "cell_type": "markdown",
   "id": "886f873b-2387-4884-bad9-2f6d062b74bc",
   "metadata": {},
   "source": [
    "# Bring in the correct packages"
   ]
  },
  {
   "cell_type": "code",
   "execution_count": 1,
   "id": "732dfe07-d4b1-4522-802c-7e33b4f03388",
   "metadata": {},
   "outputs": [],
   "source": [
    "import pandas as pd"
   ]
  },
  {
   "cell_type": "code",
   "execution_count": 2,
   "id": "28677eff-af06-4c53-83df-806c824371ae",
   "metadata": {},
   "outputs": [
    {
     "data": {
      "text/html": [
       "<div>\n",
       "<style scoped>\n",
       "    .dataframe tbody tr th:only-of-type {\n",
       "        vertical-align: middle;\n",
       "    }\n",
       "\n",
       "    .dataframe tbody tr th {\n",
       "        vertical-align: top;\n",
       "    }\n",
       "\n",
       "    .dataframe thead th {\n",
       "        text-align: right;\n",
       "    }\n",
       "</style>\n",
       "<table border=\"1\" class=\"dataframe\">\n",
       "  <thead>\n",
       "    <tr style=\"text-align: right;\">\n",
       "      <th></th>\n",
       "      <th>Date</th>\n",
       "      <th>Prism pct (inches)</th>\n",
       "      <th>SCAN pct (in)</th>\n",
       "    </tr>\n",
       "  </thead>\n",
       "  <tbody>\n",
       "    <tr>\n",
       "      <th>0</th>\n",
       "      <td>2010-01</td>\n",
       "      <td>4.70</td>\n",
       "      <td>4.80</td>\n",
       "    </tr>\n",
       "    <tr>\n",
       "      <th>1</th>\n",
       "      <td>2010-02</td>\n",
       "      <td>2.89</td>\n",
       "      <td>3.30</td>\n",
       "    </tr>\n",
       "    <tr>\n",
       "      <th>2</th>\n",
       "      <td>2010-03</td>\n",
       "      <td>5.57</td>\n",
       "      <td>5.50</td>\n",
       "    </tr>\n",
       "    <tr>\n",
       "      <th>3</th>\n",
       "      <td>2010-04</td>\n",
       "      <td>5.27</td>\n",
       "      <td>3.60</td>\n",
       "    </tr>\n",
       "    <tr>\n",
       "      <th>4</th>\n",
       "      <td>2010-05</td>\n",
       "      <td>8.81</td>\n",
       "      <td>7.70</td>\n",
       "    </tr>\n",
       "    <tr>\n",
       "      <th>...</th>\n",
       "      <td>...</td>\n",
       "      <td>...</td>\n",
       "      <td>...</td>\n",
       "    </tr>\n",
       "    <tr>\n",
       "      <th>128</th>\n",
       "      <td>2020-09</td>\n",
       "      <td>3.16</td>\n",
       "      <td>0.00</td>\n",
       "    </tr>\n",
       "    <tr>\n",
       "      <th>129</th>\n",
       "      <td>2020-10</td>\n",
       "      <td>6.84</td>\n",
       "      <td>0.00</td>\n",
       "    </tr>\n",
       "    <tr>\n",
       "      <th>130</th>\n",
       "      <td>2020-11</td>\n",
       "      <td>1.81</td>\n",
       "      <td>2.12</td>\n",
       "    </tr>\n",
       "    <tr>\n",
       "      <th>131</th>\n",
       "      <td>2020-12</td>\n",
       "      <td>5.00</td>\n",
       "      <td>6.92</td>\n",
       "    </tr>\n",
       "    <tr>\n",
       "      <th>132</th>\n",
       "      <td>2021-01</td>\n",
       "      <td>3.34</td>\n",
       "      <td>3.49</td>\n",
       "    </tr>\n",
       "  </tbody>\n",
       "</table>\n",
       "<p>133 rows × 3 columns</p>\n",
       "</div>"
      ],
      "text/plain": [
       "        Date  Prism pct (inches)  SCAN pct (in)\n",
       "0    2010-01                4.70           4.80\n",
       "1    2010-02                2.89           3.30\n",
       "2    2010-03                5.57           5.50\n",
       "3    2010-04                5.27           3.60\n",
       "4    2010-05                8.81           7.70\n",
       "..       ...                 ...            ...\n",
       "128  2020-09                3.16           0.00\n",
       "129  2020-10                6.84           0.00\n",
       "130  2020-11                1.81           2.12\n",
       "131  2020-12                5.00           6.92\n",
       "132  2021-01                3.34           3.49\n",
       "\n",
       "[133 rows x 3 columns]"
      ]
     },
     "execution_count": 2,
     "metadata": {},
     "output_type": "execute_result"
    }
   ],
   "source": [
    "precip_data = pd.read_csv(r'C:\\Users\\cwalker\\Desktop\\Classwork\\Hydrology\\data\\Prism vs SCAN Monthly.csv')\n",
    "precip_data"
   ]
  },
  {
   "cell_type": "markdown",
   "id": "be8ac9b1-c4b5-437c-bb18-2babb415656e",
   "metadata": {},
   "source": [
    "# Set Datetime Variable"
   ]
  },
  {
   "cell_type": "code",
   "execution_count": 3,
   "id": "5ef78a3e-0350-4315-a5d3-89325bc8e770",
   "metadata": {},
   "outputs": [
    {
     "data": {
      "text/plain": [
       "Date                  datetime64[ns, UTC]\n",
       "Prism pct (inches)                float64\n",
       "SCAN pct (in)                     float64\n",
       "dtype: object"
      ]
     },
     "execution_count": 3,
     "metadata": {},
     "output_type": "execute_result"
    }
   ],
   "source": [
    "precip_data['Date'] = pd.to_datetime(precip_data['Date'], dayfirst=True, utc=True)\n",
    "precip_data.set_index('Date')\n",
    "precip_data.dtypes"
   ]
  },
  {
   "cell_type": "code",
   "execution_count": 4,
   "id": "6e0448b4-04fc-47b1-8dab-847e76522f40",
   "metadata": {},
   "outputs": [
    {
     "data": {
      "text/html": [
       "<div>\n",
       "<style scoped>\n",
       "    .dataframe tbody tr th:only-of-type {\n",
       "        vertical-align: middle;\n",
       "    }\n",
       "\n",
       "    .dataframe tbody tr th {\n",
       "        vertical-align: top;\n",
       "    }\n",
       "\n",
       "    .dataframe thead th {\n",
       "        text-align: right;\n",
       "    }\n",
       "</style>\n",
       "<table border=\"1\" class=\"dataframe\">\n",
       "  <thead>\n",
       "    <tr style=\"text-align: right;\">\n",
       "      <th></th>\n",
       "      <th>Prism pct (inches)</th>\n",
       "      <th>SCAN pct (in)</th>\n",
       "    </tr>\n",
       "    <tr>\n",
       "      <th>Date</th>\n",
       "      <th></th>\n",
       "      <th></th>\n",
       "    </tr>\n",
       "  </thead>\n",
       "  <tbody>\n",
       "    <tr>\n",
       "      <th>2010-01-01 00:00:00+00:00</th>\n",
       "      <td>4.70</td>\n",
       "      <td>4.80</td>\n",
       "    </tr>\n",
       "    <tr>\n",
       "      <th>2010-02-01 00:00:00+00:00</th>\n",
       "      <td>2.89</td>\n",
       "      <td>3.30</td>\n",
       "    </tr>\n",
       "    <tr>\n",
       "      <th>2010-03-01 00:00:00+00:00</th>\n",
       "      <td>5.57</td>\n",
       "      <td>5.50</td>\n",
       "    </tr>\n",
       "    <tr>\n",
       "      <th>2010-04-01 00:00:00+00:00</th>\n",
       "      <td>5.27</td>\n",
       "      <td>3.60</td>\n",
       "    </tr>\n",
       "    <tr>\n",
       "      <th>2010-05-01 00:00:00+00:00</th>\n",
       "      <td>8.81</td>\n",
       "      <td>7.70</td>\n",
       "    </tr>\n",
       "    <tr>\n",
       "      <th>...</th>\n",
       "      <td>...</td>\n",
       "      <td>...</td>\n",
       "    </tr>\n",
       "    <tr>\n",
       "      <th>2020-09-01 00:00:00+00:00</th>\n",
       "      <td>3.16</td>\n",
       "      <td>0.00</td>\n",
       "    </tr>\n",
       "    <tr>\n",
       "      <th>2020-10-01 00:00:00+00:00</th>\n",
       "      <td>6.84</td>\n",
       "      <td>0.00</td>\n",
       "    </tr>\n",
       "    <tr>\n",
       "      <th>2020-11-01 00:00:00+00:00</th>\n",
       "      <td>1.81</td>\n",
       "      <td>2.12</td>\n",
       "    </tr>\n",
       "    <tr>\n",
       "      <th>2020-12-01 00:00:00+00:00</th>\n",
       "      <td>5.00</td>\n",
       "      <td>6.92</td>\n",
       "    </tr>\n",
       "    <tr>\n",
       "      <th>2021-01-01 00:00:00+00:00</th>\n",
       "      <td>3.34</td>\n",
       "      <td>3.49</td>\n",
       "    </tr>\n",
       "  </tbody>\n",
       "</table>\n",
       "<p>133 rows × 2 columns</p>\n",
       "</div>"
      ],
      "text/plain": [
       "                           Prism pct (inches)  SCAN pct (in)\n",
       "Date                                                        \n",
       "2010-01-01 00:00:00+00:00                4.70           4.80\n",
       "2010-02-01 00:00:00+00:00                2.89           3.30\n",
       "2010-03-01 00:00:00+00:00                5.57           5.50\n",
       "2010-04-01 00:00:00+00:00                5.27           3.60\n",
       "2010-05-01 00:00:00+00:00                8.81           7.70\n",
       "...                                       ...            ...\n",
       "2020-09-01 00:00:00+00:00                3.16           0.00\n",
       "2020-10-01 00:00:00+00:00                6.84           0.00\n",
       "2020-11-01 00:00:00+00:00                1.81           2.12\n",
       "2020-12-01 00:00:00+00:00                5.00           6.92\n",
       "2021-01-01 00:00:00+00:00                3.34           3.49\n",
       "\n",
       "[133 rows x 2 columns]"
      ]
     },
     "execution_count": 4,
     "metadata": {},
     "output_type": "execute_result"
    }
   ],
   "source": [
    "precip_data = precip_data.set_index('Date')\n",
    "precip_data"
   ]
  },
  {
   "cell_type": "markdown",
   "id": "442f5220-fdc9-4421-934e-7c091fb5bcc4",
   "metadata": {},
   "source": [
    "# Plot the Variables"
   ]
  },
  {
   "cell_type": "code",
   "execution_count": 5,
   "id": "9f7e5fde-72a1-42f5-b6c1-d6a58ceb2c69",
   "metadata": {},
   "outputs": [],
   "source": [
    "import matplotlib.pyplot as plt"
   ]
  },
  {
   "cell_type": "code",
   "execution_count": 6,
   "id": "3a0bfff8-4a36-432c-8b1d-df0cc24f806a",
   "metadata": {},
   "outputs": [
    {
     "data": {
      "text/plain": [
       "Text(0.5, 0, 'Year')"
      ]
     },
     "execution_count": 6,
     "metadata": {},
     "output_type": "execute_result"
    },
    {
     "data": {
      "image/png": "[encoded data removed]",
      "text/plain": [
       "<Figure size 432x288 with 1 Axes>"
      ]
     },
     "metadata": {
      "needs_background": "light"
     },
     "output_type": "display_data"
    }
   ],
   "source": [
    "fig, ax = plt.subplots()\n",
    "precip_data['Prism pct (inches)'].plot(ax=ax, label='OREGON PRISM')\n",
    "precip_data['SCAN pct (in)'].plot(ax=ax, label='USDA SCAN')\n",
    "ax.legend()\n",
    "ax.set_title('Oregon PRISM vs USDA SCAN Monthy Precip Data')\n",
    "ax.set_ylabel('Precipitation - inches')\n",
    "ax.set_xlabel('Year')\n"
   ]
  },
  {
   "cell_type": "markdown",
   "id": "0da1ea18-b576-4e37-989a-21dc539a1925",
   "metadata": {},
   "source": [
    "# Discussion "
   ]
  },
  {
   "cell_type": "markdown",
   "id": "ac7e7dc1-8eff-4818-bddb-435c38099206",
   "metadata": {},
   "source": [
    "The Oregon PRISM and SCAN data are similar as shown in the graph above. However, one interesting phenonmenon shown is that there is a ton of missing data, particularly for the years 2011, 2012, 2013 and 2014 for the SCAN sites. There are also signifigant differences in the data for years 2020, and 2018 where the PRISM data seems to overestimate the SCAN site data by a factor of 4. "
   ]
  },
  {
   "cell_type": "code",
   "execution_count": null,
   "id": "be0b1bc0-a7af-4358-90c0-66db6de17c1c",
   "metadata": {},
   "outputs": [],
   "source": []
  }
 ],
 "metadata": {
  "kernelspec": {
   "display_name": "Python 3",
   "language": "python",
   "name": "python3"
  },
  "language_info": {
   "codemirror_mode": {
    "name": "ipython",
    "version": 3
   },
   "file_extension": ".py",
   "mimetype": "text/x-python",
   "name": "python",
   "nbconvert_exporter": "python",
   "pygments_lexer": "ipython3",
   "version": "3.8.8"
  }
 },
 "nbformat": 4,
 "nbformat_minor": 5
}
